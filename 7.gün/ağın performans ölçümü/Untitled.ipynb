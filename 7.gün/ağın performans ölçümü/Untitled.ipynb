{
 "cells": [
  {
   "cell_type": "code",
   "execution_count": 49,
   "id": "ef2d6852",
   "metadata": {},
   "outputs": [
    {
     "name": "stdout",
     "output_type": "stream",
     "text": [
      "Geçen süre: 0.000 s\n",
      "Veri boyutu: 1048609 bytes\n"
     ]
    }
   ],
   "source": [
    "import time\n",
    "import sys\n",
    "\n",
    "# Veri paketi boyutunu belirleyin (örneğin, 1 MB veri için)\n",
    "data_size = 1024 * 1024  # 1 MB\n",
    "\n",
    "# Veri paketi oluşturma\n",
    "data = b\"x\" * data_size\n",
    "\n",
    "# Başlangıç zamanını kaydedin\n",
    "start_time = time.monotonic()\n",
    "\n",
    "# Veri paketini işleyin veya taşıyın (örneğin, ağda gönderin)\n",
    "# ...\n",
    "\n",
    "# Bitiş zamanını kaydedin\n",
    "end_time = time.monotonic()\n",
    "\n",
    "# Geçen süreyi hesaplayın ve yazdırın\n",
    "elapsed_time = end_time - start_time\n",
    "print(f\"Geçen süre: {elapsed_time:.3f} s\")\n",
    "\n",
    "# Veri paketinin boyutunu hesaplayın ve yazdırın\n",
    "data_size_bytes = sys.getsizeof(data)\n",
    "print(f\"Veri boyutu: {data_size_bytes} bytes\")\n",
    "\n",
    "\n"
   ]
  },
  {
   "cell_type": "code",
   "execution_count": 37,
   "id": "6f1e5122",
   "metadata": {},
   "outputs": [
    {
     "ename": "ZeroDivisionError",
     "evalue": "float division by zero",
     "output_type": "error",
     "traceback": [
      "\u001b[1;31m---------------------------------------------------------------------------\u001b[0m",
      "\u001b[1;31mZeroDivisionError\u001b[0m                         Traceback (most recent call last)",
      "Input \u001b[1;32mIn [37]\u001b[0m, in \u001b[0;36m<cell line: 2>\u001b[1;34m()\u001b[0m\n\u001b[0;32m      1\u001b[0m \u001b[38;5;66;03m# Veri paketi taşıma hızını hesaplayın ve yazdırın\u001b[39;00m\n\u001b[1;32m----> 2\u001b[0m data_transfer_rate \u001b[38;5;241m=\u001b[39m (\u001b[43mdata_size_bytes\u001b[49m\u001b[43m \u001b[49m\u001b[38;5;241;43m/\u001b[39;49m\u001b[43m \u001b[49m\u001b[43melapsed_time\u001b[49m) \u001b[38;5;241m/\u001b[39m \u001b[38;5;241m1024\u001b[39m \u001b[38;5;241m*\u001b[39m \u001b[38;5;241m1024\u001b[39m\n\u001b[0;32m      3\u001b[0m \u001b[38;5;28mprint\u001b[39m(\u001b[38;5;124mf\u001b[39m\u001b[38;5;124m\"\u001b[39m\u001b[38;5;124mTaşıma hızı: \u001b[39m\u001b[38;5;132;01m{\u001b[39;00mdata_transfer_rate\u001b[38;5;132;01m:\u001b[39;00m\u001b[38;5;124m.2f\u001b[39m\u001b[38;5;132;01m}\u001b[39;00m\u001b[38;5;124m MB/s\u001b[39m\u001b[38;5;124m\"\u001b[39m)\n",
      "\u001b[1;31mZeroDivisionError\u001b[0m: float division by zero"
     ]
    }
   ],
   "source": [
    "# Veri paketi taşıma hızını hesaplayın ve yazdırın\n",
    "data_transfer_rate = (data_size_bytes / elapsed_time) / 1024 / 1024\n",
    "print(f\"Taşıma hızı: {data_transfer_rate:.2f} MB/s\")"
   ]
  },
  {
   "cell_type": "code",
   "execution_count": null,
   "id": "a48b3f11",
   "metadata": {},
   "outputs": [],
   "source": []
  }
 ],
 "metadata": {
  "kernelspec": {
   "display_name": "Python 3 (ipykernel)",
   "language": "python",
   "name": "python3"
  },
  "language_info": {
   "codemirror_mode": {
    "name": "ipython",
    "version": 3
   },
   "file_extension": ".py",
   "mimetype": "text/x-python",
   "name": "python",
   "nbconvert_exporter": "python",
   "pygments_lexer": "ipython3",
   "version": "3.9.12"
  }
 },
 "nbformat": 4,
 "nbformat_minor": 5
}
