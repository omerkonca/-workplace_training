{
 "cells": [
  {
   "cell_type": "code",
   "execution_count": null,
   "id": "393ca56d",
   "metadata": {},
   "outputs": [],
   "source": [
    "import socket\n",
    "import time\n",
    "import psutil"
   ]
  },
  {
   "cell_type": "code",
   "execution_count": null,
   "id": "a547ce61",
   "metadata": {},
   "outputs": [],
   "source": [
    "# Gönderici ve alıcı IP adresleri ve port numaraları\n",
    "sender_ip = \"192.168.68.121\"\n",
    "receiver_ip = \"192.168.68.120\"\n",
    "port = 27017\n"
   ]
  },
  {
   "cell_type": "code",
   "execution_count": null,
   "id": "7c2a570a",
   "metadata": {},
   "outputs": [],
   "source": [
    "# Dosya boyutu (byte cinsinden)\n",
    "file_size = 1000000"
   ]
  },
  {
   "cell_type": "code",
   "execution_count": null,
   "id": "58e60fbc",
   "metadata": {},
   "outputs": [],
   "source": [
    "\n",
    "# Soket oluşturma ve bağlantıyı ayarlama\n",
    "s = socket.socket(socket.AF_INET, socket.SOCK_STREAM)\n",
    "s.bind((sender_ip, port))\n",
    "s.listen(1)\n",
    "conn, addr = s.accept()"
   ]
  },
  {
   "cell_type": "code",
   "execution_count": null,
   "id": "a62b69e4",
   "metadata": {},
   "outputs": [],
   "source": [
    "# Dosya oluşturma ve doldurma\n",
    "with open(\"testfile.bin\", \"wb\") as f:\n",
    "    f.write(b\"\\0\" * file_size)\n"
   ]
  },
  {
   "cell_type": "code",
   "execution_count": null,
   "id": "14afde2d",
   "metadata": {},
   "outputs": [],
   "source": [
    "# Dosya transferi\n",
    "start_time = time.time()\n",
    "with open(\"testfile.bin\", \"rb\") as f:\n",
    "    conn.sendall(f.read())\n",
    "end_time = time.time()\n"
   ]
  },
  {
   "cell_type": "code",
   "execution_count": null,
   "id": "599445e9",
   "metadata": {},
   "outputs": [],
   "source": [
    "# Hızı hesaplama\n",
    "transfer_time = end_time - start_time\n",
    "transfer_speed = file_size / transfer_time\n"
   ]
  },
  {
   "cell_type": "code",
   "execution_count": null,
   "id": "214e0a68",
   "metadata": {},
   "outputs": [],
   "source": [
    "# Hızı ekrana yazdırma\n",
    "print(\"Transfer Speed: {:.2f} MB/s\".format(transfer_speed / 1024 / 1024))"
   ]
  },
  {
   "cell_type": "code",
   "execution_count": null,
   "id": "12c2fc83",
   "metadata": {},
   "outputs": [],
   "source": [
    "# Bağlantıyı kapatma\n",
    "conn.close()\n",
    "s.close()"
   ]
  },
  {
   "cell_type": "code",
   "execution_count": null,
   "id": "d0ac8bbc",
   "metadata": {},
   "outputs": [],
   "source": []
  }
 ],
 "metadata": {
  "kernelspec": {
   "display_name": "Python 3 (ipykernel)",
   "language": "python",
   "name": "python3"
  },
  "language_info": {
   "codemirror_mode": {
    "name": "ipython",
    "version": 3
   },
   "file_extension": ".py",
   "mimetype": "text/x-python",
   "name": "python",
   "nbconvert_exporter": "python",
   "pygments_lexer": "ipython3",
   "version": "3.9.12"
  }
 },
 "nbformat": 4,
 "nbformat_minor": 5
}
