{
 "cells": [
  {
   "cell_type": "code",
   "execution_count": 13,
   "id": "a0eea708",
   "metadata": {},
   "outputs": [
    {
     "name": "stdout",
     "output_type": "stream",
     "text": [
      "No response\n"
     ]
    }
   ],
   "source": [
    "import ping3\n",
    "\n",
    "# Hedef IP adresi\n",
    "target = \"192.168.68.121\"\n",
    "\n",
    "# ICMP paketi gönder ve cevabı al\n",
    "response_time = ping3.ping(target)\n",
    "\n",
    "# Cevabı ekrana yazdır\n",
    "if response_time is not None:\n",
    "    print(f\"Response time: {response_time} seconds\")\n",
    "else:\n",
    "    print(\"No response\")\n",
    " "
   ]
  },
  {
   "cell_type": "code",
   "execution_count": null,
   "id": "11772caa",
   "metadata": {},
   "outputs": [],
   "source": []
  },
  {
   "cell_type": "code",
   "execution_count": null,
   "id": "7803b043",
   "metadata": {},
   "outputs": [],
   "source": []
  },
  {
   "cell_type": "code",
   "execution_count": null,
   "id": "76e8bd79",
   "metadata": {},
   "outputs": [],
   "source": []
  }
 ],
 "metadata": {
  "kernelspec": {
   "display_name": "Python 3 (ipykernel)",
   "language": "python",
   "name": "python3"
  },
  "language_info": {
   "codemirror_mode": {
    "name": "ipython",
    "version": 3
   },
   "file_extension": ".py",
   "mimetype": "text/x-python",
   "name": "python",
   "nbconvert_exporter": "python",
   "pygments_lexer": "ipython3",
   "version": "3.9.12"
  }
 },
 "nbformat": 4,
 "nbformat_minor": 5
}
