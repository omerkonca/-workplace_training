{
 "cells": [
  {
   "cell_type": "code",
   "execution_count": 29,
   "id": "0907a820",
   "metadata": {},
   "outputs": [
    {
     "ename": "OSError",
     "evalue": "[WinError -2147312566] Tür kitaplığı/DLL yükleme hatası",
     "output_type": "error",
     "traceback": [
      "\u001b[1;31m---------------------------------------------------------------------------\u001b[0m",
      "\u001b[1;31mOSError\u001b[0m                                   Traceback (most recent call last)",
      "Input \u001b[1;32mIn [29]\u001b[0m, in \u001b[0;36m<cell line: 9>\u001b[1;34m()\u001b[0m\n\u001b[0;32m      6\u001b[0m \u001b[38;5;28;01mfrom\u001b[39;00m \u001b[38;5;21;01mctypes\u001b[39;00m\u001b[38;5;21;01m.\u001b[39;00m\u001b[38;5;21;01mwintypes\u001b[39;00m \u001b[38;5;28;01mimport\u001b[39;00m DWORD, HANDLE\n\u001b[0;32m      8\u001b[0m \u001b[38;5;66;03m# NativeWifi kütüphaneleri\u001b[39;00m\n\u001b[1;32m----> 9\u001b[0m \u001b[43mGetModule\u001b[49m\u001b[43m(\u001b[49m\u001b[38;5;124;43m'\u001b[39;49m\u001b[38;5;124;43mole32.dll\u001b[39;49m\u001b[38;5;124;43m'\u001b[39;49m\u001b[43m)\u001b[49m\n\u001b[0;32m     10\u001b[0m GetModule(\u001b[38;5;124m'\u001b[39m\u001b[38;5;124moleaut32.dll\u001b[39m\u001b[38;5;124m'\u001b[39m)\n\u001b[0;32m     11\u001b[0m GetModule(\u001b[38;5;124m'\u001b[39m\u001b[38;5;124mwlanapi.dll\u001b[39m\u001b[38;5;124m'\u001b[39m)\n",
      "File \u001b[1;32m~\\anaconda3\\lib\\site-packages\\comtypes\\client\\_generate.py:90\u001b[0m, in \u001b[0;36mGetModule\u001b[1;34m(tlib)\u001b[0m\n\u001b[0;32m     88\u001b[0m     logger\u001b[38;5;241m.\u001b[39mdebug(\u001b[38;5;124m\"\u001b[39m\u001b[38;5;124mGetModule(\u001b[39m\u001b[38;5;132;01m%s\u001b[39;00m\u001b[38;5;124m)\u001b[39m\u001b[38;5;124m\"\u001b[39m, tlib)\n\u001b[0;32m     89\u001b[0m     pathname \u001b[38;5;241m=\u001b[39m tlib\n\u001b[1;32m---> 90\u001b[0m     tlib \u001b[38;5;241m=\u001b[39m \u001b[43mcomtypes\u001b[49m\u001b[38;5;241;43m.\u001b[39;49m\u001b[43mtypeinfo\u001b[49m\u001b[38;5;241;43m.\u001b[39;49m\u001b[43mLoadTypeLibEx\u001b[49m\u001b[43m(\u001b[49m\u001b[43mtlib\u001b[49m\u001b[43m)\u001b[49m\n\u001b[0;32m     91\u001b[0m \u001b[38;5;28;01melif\u001b[39;00m \u001b[38;5;28misinstance\u001b[39m(tlib, comtypes\u001b[38;5;241m.\u001b[39mGUID):\n\u001b[0;32m     92\u001b[0m     \u001b[38;5;66;03m# tlib contain a clsid\u001b[39;00m\n\u001b[0;32m     93\u001b[0m     clsid \u001b[38;5;241m=\u001b[39m \u001b[38;5;28mstr\u001b[39m(tlib)\n",
      "File \u001b[1;32m~\\anaconda3\\lib\\site-packages\\comtypes\\typeinfo.py:485\u001b[0m, in \u001b[0;36mLoadTypeLibEx\u001b[1;34m(szFile, regkind)\u001b[0m\n\u001b[0;32m    483\u001b[0m \u001b[38;5;124m\"\u001b[39m\u001b[38;5;124mLoad, and optionally register a type library file\u001b[39m\u001b[38;5;124m\"\u001b[39m\n\u001b[0;32m    484\u001b[0m ptl \u001b[38;5;241m=\u001b[39m POINTER(ITypeLib)()\n\u001b[1;32m--> 485\u001b[0m \u001b[43m_oleaut32\u001b[49m\u001b[38;5;241;43m.\u001b[39;49m\u001b[43mLoadTypeLibEx\u001b[49m\u001b[43m(\u001b[49m\u001b[43mc_wchar_p\u001b[49m\u001b[43m(\u001b[49m\u001b[43mszFile\u001b[49m\u001b[43m)\u001b[49m\u001b[43m,\u001b[49m\u001b[43m \u001b[49m\u001b[43mregkind\u001b[49m\u001b[43m,\u001b[49m\u001b[43m \u001b[49m\u001b[43mbyref\u001b[49m\u001b[43m(\u001b[49m\u001b[43mptl\u001b[49m\u001b[43m)\u001b[49m\u001b[43m)\u001b[49m\n\u001b[0;32m    486\u001b[0m \u001b[38;5;28;01mreturn\u001b[39;00m ptl\n",
      "File \u001b[1;32m_ctypes/callproc.c:997\u001b[0m, in \u001b[0;36mGetResult\u001b[1;34m()\u001b[0m\n",
      "\u001b[1;31mOSError\u001b[0m: [WinError -2147312566] Tür kitaplığı/DLL yükleme hatası"
     ]
    }
   ],
   "source": [
    "\n"
   ]
  },
  {
   "cell_type": "code",
   "execution_count": null,
   "id": "0be6c3f5",
   "metadata": {},
   "outputs": [],
   "source": []
  },
  {
   "cell_type": "code",
   "execution_count": null,
   "id": "37212286",
   "metadata": {},
   "outputs": [],
   "source": []
  },
  {
   "cell_type": "code",
   "execution_count": null,
   "id": "b8f4ce9f",
   "metadata": {},
   "outputs": [],
   "source": [
    "\n"
   ]
  },
  {
   "cell_type": "code",
   "execution_count": null,
   "id": "359d6403",
   "metadata": {},
   "outputs": [],
   "source": []
  },
  {
   "cell_type": "code",
   "execution_count": null,
   "id": "9e597dd3",
   "metadata": {},
   "outputs": [],
   "source": []
  },
  {
   "cell_type": "code",
   "execution_count": null,
   "id": "8ba26217",
   "metadata": {},
   "outputs": [],
   "source": []
  },
  {
   "cell_type": "code",
   "execution_count": null,
   "id": "0d0bf273",
   "metadata": {},
   "outputs": [],
   "source": []
  },
  {
   "cell_type": "code",
   "execution_count": null,
   "id": "ba64413e",
   "metadata": {},
   "outputs": [],
   "source": []
  }
 ],
 "metadata": {
  "kernelspec": {
   "display_name": "Python 3 (ipykernel)",
   "language": "python",
   "name": "python3"
  },
  "language_info": {
   "codemirror_mode": {
    "name": "ipython",
    "version": 3
   },
   "file_extension": ".py",
   "mimetype": "text/x-python",
   "name": "python",
   "nbconvert_exporter": "python",
   "pygments_lexer": "ipython3",
   "version": "3.9.12"
  }
 },
 "nbformat": 4,
 "nbformat_minor": 5
}
