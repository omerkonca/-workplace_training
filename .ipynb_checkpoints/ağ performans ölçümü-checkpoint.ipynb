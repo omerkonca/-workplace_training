{
 "cells": [
  {
   "cell_type": "code",
   "execution_count": 11,
   "id": "337b830c",
   "metadata": {},
   "outputs": [],
   "source": [
    "import time\n",
    "import psutil"
   ]
  },
  {
   "cell_type": "code",
   "execution_count": 12,
   "id": "bb6d0546",
   "metadata": {},
   "outputs": [],
   "source": [
    "def get_network_speed():\n",
    "    start_time = time.monotonic()\n",
    "    bytes_sent_start = psutil.net_io_counters().bytes_sent\n",
    "    bytes_recv_start = psutil.net_io_counters().bytes_recv\n",
    "\n",
    "    time.sleep(1)\n",
    "\n",
    "    bytes_sent_end = psutil.net_io_counters().bytes_sent\n",
    "    bytes_recv_end = psutil.net_io_counters().bytes_recv\n",
    "    end_time = time.monotonic()\n",
    "\n",
    "    send_speed = (bytes_sent_end - bytes_sent_start) / (end_time - start_time) / 1024 / 1024\n",
    "    recv_speed = (bytes_recv_end - bytes_recv_start) / (end_time - start_time) / 1024 / 1024\n",
    "    return send_speed, recv_speed"
   ]
  },
  {
   "cell_type": "code",
   "execution_count": 13,
   "id": "9b2b1174",
   "metadata": {},
   "outputs": [
    {
     "name": "stdout",
     "output_type": "stream",
     "text": [
      "Gönderme hızı: 0.00 Mbps\n",
      "Alma hızı: 0.01 Mbps\n"
     ]
    }
   ],
   "source": [
    "send_speed, recv_speed = get_network_speed()\n",
    "print(f\"Gönderme hızı: {send_speed:.2f} Mbps\")\n",
    "print(f\"Alma hızı: {recv_speed:.2f} Mbps\")"
   ]
  },
  {
   "cell_type": "code",
   "execution_count": null,
   "id": "2357afc3",
   "metadata": {},
   "outputs": [],
   "source": []
  }
 ],
 "metadata": {
  "kernelspec": {
   "display_name": "Python 3 (ipykernel)",
   "language": "python",
   "name": "python3"
  },
  "language_info": {
   "codemirror_mode": {
    "name": "ipython",
    "version": 3
   },
   "file_extension": ".py",
   "mimetype": "text/x-python",
   "name": "python",
   "nbconvert_exporter": "python",
   "pygments_lexer": "ipython3",
   "version": "3.9.12"
  }
 },
 "nbformat": 4,
 "nbformat_minor": 5
}
