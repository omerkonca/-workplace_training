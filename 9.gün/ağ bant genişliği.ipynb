{
 "cells": [
  {
   "cell_type": "code",
   "execution_count": 9,
   "id": "eb5adf7a",
   "metadata": {},
   "outputs": [],
   "source": [
    "import urllib.request\n",
    "import time"
   ]
  },
  {
   "cell_type": "code",
   "execution_count": null,
   "id": "cf4068fc",
   "metadata": {},
   "outputs": [],
   "source": [
    "import urllib.request\n",
    "import time\n",
    "\n",
    "url = \"http://tf.firat.edu.tr/subdomain_files/tf.firat.edu.tr/files/1994/EK_3.2_Isyeri_Egitimi_Sicil_Fisi.doc\"\n",
    "\n",
    "while True:\n",
    "    start_time = time.time()\n",
    "\n",
    "    response = urllib.request.urlopen(url)\n",
    "    data = response.read()\n",
    "\n",
    "    end_time = time.time()\n",
    "    elapsed_time = end_time - start_time\n",
    "    data_size = len(data) / 1024 / 1024\n",
    "\n",
    "    bandwidth = data_size / elapsed_time\n",
    "    print(\"Bant genişliği: {:.2f} MB/s\".format(bandwidth))\n",
    "\n",
    "    time.sleep(1)\n"
   ]
  },
  {
   "cell_type": "code",
   "execution_count": null,
   "id": "28a7a726",
   "metadata": {},
   "outputs": [],
   "source": []
  }
 ],
 "metadata": {
  "kernelspec": {
   "display_name": "Python 3 (ipykernel)",
   "language": "python",
   "name": "python3"
  },
  "language_info": {
   "codemirror_mode": {
    "name": "ipython",
    "version": 3
   },
   "file_extension": ".py",
   "mimetype": "text/x-python",
   "name": "python",
   "nbconvert_exporter": "python",
   "pygments_lexer": "ipython3",
   "version": "3.9.12"
  }
 },
 "nbformat": 4,
 "nbformat_minor": 5
}
