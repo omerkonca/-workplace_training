{
 "cells": [
  {
   "cell_type": "code",
   "execution_count": 2,
   "id": "e6da2e50",
   "metadata": {},
   "outputs": [],
   "source": [
    "import psutil\n",
    "import speedtest"
   ]
  },
  {
   "cell_type": "code",
   "execution_count": 3,
   "id": "5e30d349",
   "metadata": {},
   "outputs": [
    {
     "data": {
      "text/plain": [
       "3306170.3488376476"
      ]
     },
     "execution_count": 3,
     "metadata": {},
     "output_type": "execute_result"
    }
   ],
   "source": [
    "# Speedtest sunucusu seçimi\n",
    "servers = []\n",
    "threads = None\n",
    "\n",
    "s = speedtest.Speedtest()\n",
    "s.get_servers(servers)\n",
    "s.get_best_server()\n",
    "s.download(threads=threads)"
   ]
  },
  {
   "cell_type": "code",
   "execution_count": 4,
   "id": "6bad1a3c",
   "metadata": {},
   "outputs": [],
   "source": [
    "# Ağ arayüzü seçimi\n",
    "net_interface = \"eth0\""
   ]
  },
  {
   "cell_type": "code",
   "execution_count": 5,
   "id": "040d2718",
   "metadata": {},
   "outputs": [
    {
     "ename": "KeyError",
     "evalue": "'eth0'",
     "output_type": "error",
     "traceback": [
      "\u001b[1;31m---------------------------------------------------------------------------\u001b[0m",
      "\u001b[1;31mKeyError\u001b[0m                                  Traceback (most recent call last)",
      "Input \u001b[1;32mIn [5]\u001b[0m, in \u001b[0;36m<cell line: 3>\u001b[1;34m()\u001b[0m\n\u001b[0;32m      1\u001b[0m \u001b[38;5;66;03m# Gerçek zamanlı ağ trafiği ölçümü\u001b[39;00m\n\u001b[0;32m      2\u001b[0m \u001b[38;5;28;01mwhile\u001b[39;00m \u001b[38;5;28;01mTrue\u001b[39;00m:\n\u001b[1;32m----> 3\u001b[0m     net_io_counters1 \u001b[38;5;241m=\u001b[39m \u001b[43mpsutil\u001b[49m\u001b[38;5;241;43m.\u001b[39;49m\u001b[43mnet_io_counters\u001b[49m\u001b[43m(\u001b[49m\u001b[43mpernic\u001b[49m\u001b[38;5;241;43m=\u001b[39;49m\u001b[38;5;28;43;01mTrue\u001b[39;49;00m\u001b[43m)\u001b[49m\u001b[43m[\u001b[49m\u001b[43mnet_interface\u001b[49m\u001b[43m]\u001b[49m\n\u001b[0;32m      4\u001b[0m     time\u001b[38;5;241m.\u001b[39msleep(\u001b[38;5;241m1\u001b[39m)\n\u001b[0;32m      5\u001b[0m     net_io_counters2 \u001b[38;5;241m=\u001b[39m psutil\u001b[38;5;241m.\u001b[39mnet_io_counters(pernic\u001b[38;5;241m=\u001b[39m\u001b[38;5;28;01mTrue\u001b[39;00m)[net_interface]\n",
      "\u001b[1;31mKeyError\u001b[0m: 'eth0'"
     ]
    }
   ],
   "source": [
    "# Gerçek zamanlı ağ trafiği ölçümü\n",
    "while True:\n",
    "    net_io_counters1 = psutil.net_io_counters(pernic=True)[net_interface]\n",
    "    time.sleep(1)\n",
    "    net_io_counters2 = psutil.net_io_counters(pernic=True)[net_interface]\n",
    "    bytes_sent = net_io_counters2.bytes_sent - net_io_counters1.bytes_sent\n",
    "    bytes_recv = net_io_counters2.bytes_recv - net_io_counters1.bytes_recv\n",
    "    print(\"Gönderilen: {:.2f} KB/s, Alınan: {:.2f} KB/s\".format(\n",
    "        bytes_sent / 1024, bytes_recv / 1024))"
   ]
  },
  {
   "cell_type": "code",
   "execution_count": null,
   "id": "f8b978d3",
   "metadata": {},
   "outputs": [],
   "source": []
  }
 ],
 "metadata": {
  "kernelspec": {
   "display_name": "Python 3 (ipykernel)",
   "language": "python",
   "name": "python3"
  },
  "language_info": {
   "codemirror_mode": {
    "name": "ipython",
    "version": 3
   },
   "file_extension": ".py",
   "mimetype": "text/x-python",
   "name": "python",
   "nbconvert_exporter": "python",
   "pygments_lexer": "ipython3",
   "version": "3.9.12"
  }
 },
 "nbformat": 4,
 "nbformat_minor": 5
}
