{
 "cells": [
  {
   "cell_type": "code",
   "execution_count": 11,
   "id": "eb5adf7a",
   "metadata": {},
   "outputs": [],
   "source": [
    "import urllib.request\n",
    "import time"
   ]
  },
  {
   "cell_type": "code",
   "execution_count": 12,
   "id": "cf4068fc",
   "metadata": {},
   "outputs": [
    {
     "name": "stdout",
     "output_type": "stream",
     "text": [
      "Bant genişliği: 0.01 MB/s\n",
      "Bant genişliği: 0.01 MB/s\n",
      "Bant genişliği: 0.01 MB/s\n",
      "Bant genişliği: 0.02 MB/s\n",
      "Bant genişliği: 0.02 MB/s\n",
      "Bant genişliği: 0.02 MB/s\n",
      "Bant genişliği: 0.03 MB/s\n",
      "Bant genişliği: 0.02 MB/s\n",
      "Bant genişliği: 0.01 MB/s\n",
      "Bant genişliği: 0.03 MB/s\n",
      "Bant genişliği: 0.03 MB/s\n",
      "Bant genişliği: 0.03 MB/s\n",
      "Bant genişliği: 0.02 MB/s\n",
      "Bant genişliği: 0.02 MB/s\n",
      "Bant genişliği: 0.02 MB/s\n",
      "Bant genişliği: 0.02 MB/s\n",
      "Bant genişliği: 0.01 MB/s\n",
      "Bant genişliği: 0.01 MB/s\n",
      "Bant genişliği: 0.01 MB/s\n",
      "Bant genişliği: 0.01 MB/s\n",
      "Bant genişliği: 0.04 MB/s\n",
      "Bant genişliği: 0.05 MB/s\n",
      "Bant genişliği: 0.04 MB/s\n",
      "Bant genişliği: 0.03 MB/s\n",
      "Bant genişliği: 0.04 MB/s\n",
      "Bant genişliği: 0.05 MB/s\n",
      "Bant genişliği: 0.08 MB/s\n",
      "Bant genişliği: 0.06 MB/s\n",
      "Bant genişliği: 0.06 MB/s\n",
      "Bant genişliği: 0.09 MB/s\n",
      "Bant genişliği: 0.08 MB/s\n",
      "Bant genişliği: 0.05 MB/s\n",
      "Bant genişliği: 0.11 MB/s\n",
      "Bant genişliği: 0.06 MB/s\n",
      "Bant genişliği: 0.05 MB/s\n",
      "Bant genişliği: 0.06 MB/s\n",
      "Bant genişliği: 0.06 MB/s\n",
      "Bant genişliği: 0.03 MB/s\n",
      "Bant genişliği: 0.04 MB/s\n",
      "Bant genişliği: 0.03 MB/s\n",
      "Bant genişliği: 0.02 MB/s\n",
      "Bant genişliği: 0.02 MB/s\n",
      "Bant genişliği: 0.03 MB/s\n",
      "Bant genişliği: 0.03 MB/s\n",
      "Bant genişliği: 0.03 MB/s\n",
      "Bant genişliği: 0.04 MB/s\n",
      "Bant genişliği: 0.02 MB/s\n",
      "Bant genişliği: 0.01 MB/s\n",
      "Bant genişliği: 0.01 MB/s\n",
      "Bant genişliği: 0.01 MB/s\n",
      "Bant genişliği: 0.01 MB/s\n",
      "Bant genişliği: 0.01 MB/s\n",
      "Bant genişliği: 0.01 MB/s\n",
      "Bant genişliği: 0.01 MB/s\n",
      "Bant genişliği: 0.01 MB/s\n",
      "Bant genişliği: 0.01 MB/s\n",
      "Bant genişliği: 0.02 MB/s\n",
      "Bant genişliği: 0.01 MB/s\n",
      "Bant genişliği: 0.02 MB/s\n",
      "Bant genişliği: 0.01 MB/s\n",
      "Bant genişliği: 0.06 MB/s\n",
      "Bant genişliği: 0.05 MB/s\n",
      "Bant genişliği: 0.07 MB/s\n",
      "Bant genişliği: 0.04 MB/s\n",
      "Bant genişliği: 0.06 MB/s\n",
      "Bant genişliği: 0.05 MB/s\n",
      "Bant genişliği: 0.06 MB/s\n"
     ]
    },
    {
     "ename": "KeyboardInterrupt",
     "evalue": "",
     "output_type": "error",
     "traceback": [
      "\u001b[1;31m---------------------------------------------------------------------------\u001b[0m",
      "\u001b[1;31mKeyboardInterrupt\u001b[0m                         Traceback (most recent call last)",
      "Input \u001b[1;32mIn [12]\u001b[0m, in \u001b[0;36m<cell line: 7>\u001b[1;34m()\u001b[0m\n\u001b[0;32m     16\u001b[0m bandwidth \u001b[38;5;241m=\u001b[39m data_size \u001b[38;5;241m/\u001b[39m elapsed_time\n\u001b[0;32m     17\u001b[0m \u001b[38;5;28mprint\u001b[39m(\u001b[38;5;124m\"\u001b[39m\u001b[38;5;124mBant genişliği: \u001b[39m\u001b[38;5;132;01m{:.2f}\u001b[39;00m\u001b[38;5;124m MB/s\u001b[39m\u001b[38;5;124m\"\u001b[39m\u001b[38;5;241m.\u001b[39mformat(bandwidth))\n\u001b[1;32m---> 19\u001b[0m \u001b[43mtime\u001b[49m\u001b[38;5;241;43m.\u001b[39;49m\u001b[43msleep\u001b[49m\u001b[43m(\u001b[49m\u001b[38;5;241;43m1\u001b[39;49m\u001b[43m)\u001b[49m\n",
      "\u001b[1;31mKeyboardInterrupt\u001b[0m: "
     ]
    }
   ],
   "source": [
    "import urllib.request\n",
    "import time\n",
    "\n",
    "url = \"http://tf.firat.edu.tr/subdomain_files/tf.firat.edu.tr/files/1994/EK_3.2_Isyeri_Egitimi_Sicil_Fisi.doc\"\n",
    "\n",
    "while True:\n",
    "    start_time = time.time()\n",
    "\n",
    "    response = urllib.request.urlopen(url)\n",
    "    data = response.read()\n",
    "\n",
    "    end_time = time.time()\n",
    "    elapsed_time = end_time - start_time\n",
    "    data_size = len(data) / 1024 / 1024\n",
    "\n",
    "    bandwidth = data_size / elapsed_time\n",
    "    print(\"Bant genişliği: {:.2f} MB/s\".format(bandwidth))\n",
    "\n",
    "    time.sleep(1)\n"
   ]
  },
  {
   "cell_type": "code",
   "execution_count": null,
   "id": "28a7a726",
   "metadata": {},
   "outputs": [],
   "source": []
  }
 ],
 "metadata": {
  "kernelspec": {
   "display_name": "Python 3 (ipykernel)",
   "language": "python",
   "name": "python3"
  },
  "language_info": {
   "codemirror_mode": {
    "name": "ipython",
    "version": 3
   },
   "file_extension": ".py",
   "mimetype": "text/x-python",
   "name": "python",
   "nbconvert_exporter": "python",
   "pygments_lexer": "ipython3",
   "version": "3.9.12"
  }
 },
 "nbformat": 4,
 "nbformat_minor": 5
}
